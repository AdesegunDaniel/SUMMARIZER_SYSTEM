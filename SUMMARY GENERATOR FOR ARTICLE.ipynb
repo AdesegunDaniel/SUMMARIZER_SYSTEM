{
 "cells": [
  {
   "cell_type": "markdown",
   "id": "8ecbaaec",
   "metadata": {},
   "source": [
    "# SUMMARY GENERATING SYSTEM FOR NBF BLOG"
   ]
  },
  {
   "cell_type": "markdown",
   "id": "55ce65e2",
   "metadata": {},
   "source": [
    "When you open a blog and go through it, you enjoy the article, the news, and a lot of interesting write up. But little do you know about the energy and the hard work exerted into every page you open. For any Blog that wants to retain a reputation for being accurate and informative, it means a lot of hard work. One of the inputs is diligent sorting the internet, articles, and other sources to deduct usable information. This last statement is not as simple as it sounds. It involves hours of concentrated reading and summarizing. I was opportune to spend some time with a blogger to witness how much it takes to write a few lines of a blog. I can tell you that this is a tedious job to do. Someone like me, who does not like to read much, this is too much of a labor. I won’t fail to tell you that there are cases where they embark on two to three hours of reading only to discard the write-up as not good enough or inconsistent.\n",
    "What is the task here? If we can build a model that helps read through an article, news, and so on and then gives a comprehensive summary of the article. That will reduce the stress and productivity of this job. And as data scientists, we turn to our model algorithm to help us. Natural Language Processing (NLP) is our save heaving here.\n",
    "In the algorithm, we use Tkinter as the user interface. It helps limit the cost of deploying. It also makes the model available until the client is ready for real-time deployment."
   ]
  },
  {
   "cell_type": "code",
   "execution_count": 7,
   "id": "68d7c200",
   "metadata": {},
   "outputs": [
    {
     "name": "stderr",
     "output_type": "stream",
     "text": [
      "ERROR: Could not find a version that satisfies the requirement tkinter (from versions: none)\n",
      "ERROR: No matching distribution found for tkinter\n"
     ]
    },
    {
     "name": "stdout",
     "output_type": "stream",
     "text": [
      "Requirement already satisfied: nltk in c:\\users\\owner\\anaconda3\\lib\\site-packages (3.7)\n",
      "Requirement already satisfied: tqdm in c:\\users\\owner\\anaconda3\\lib\\site-packages (from nltk) (4.64.1)\n",
      "Requirement already satisfied: click in c:\\users\\owner\\anaconda3\\lib\\site-packages (from nltk) (8.0.3)\n",
      "Requirement already satisfied: regex>=2021.8.3 in c:\\users\\owner\\anaconda3\\lib\\site-packages (from nltk) (2022.7.9)\n",
      "Requirement already satisfied: joblib in c:\\users\\owner\\anaconda3\\lib\\site-packages (from nltk) (1.1.0)\n",
      "Requirement already satisfied: colorama in c:\\users\\owner\\anaconda3\\lib\\site-packages (from click->nltk) (0.4.5)\n",
      "Requirement already satisfied: newspaper3k in c:\\users\\owner\\anaconda3\\lib\\site-packages (0.2.8)\n",
      "Requirement already satisfied: beautifulsoup4>=4.4.1 in c:\\users\\owner\\anaconda3\\lib\\site-packages (from newspaper3k) (4.11.1)\n",
      "Requirement already satisfied: feedfinder2>=0.0.4 in c:\\users\\owner\\anaconda3\\lib\\site-packages (from newspaper3k) (0.0.4)\n",
      "Requirement already satisfied: cssselect>=0.9.2 in c:\\users\\owner\\anaconda3\\lib\\site-packages (from newspaper3k) (1.1.0)\n",
      "Requirement already satisfied: tldextract>=2.0.1 in c:\\users\\owner\\anaconda3\\lib\\site-packages (from newspaper3k) (3.2.0)\n",
      "Requirement already satisfied: python-dateutil>=2.5.3 in c:\\users\\owner\\anaconda3\\lib\\site-packages (from newspaper3k) (2.8.2)\n",
      "Requirement already satisfied: Pillow>=3.3.0 in c:\\users\\owner\\anaconda3\\lib\\site-packages (from newspaper3k) (9.2.0)\n",
      "Requirement already satisfied: nltk>=3.2.1 in c:\\users\\owner\\anaconda3\\lib\\site-packages (from newspaper3k) (3.7)\n",
      "Requirement already satisfied: requests>=2.10.0 in c:\\users\\owner\\anaconda3\\lib\\site-packages (from newspaper3k) (2.28.1)\n",
      "Requirement already satisfied: tinysegmenter==0.3 in c:\\users\\owner\\anaconda3\\lib\\site-packages (from newspaper3k) (0.3)\n",
      "Requirement already satisfied: feedparser>=5.2.1 in c:\\users\\owner\\anaconda3\\lib\\site-packages (from newspaper3k) (6.0.10)\n",
      "Requirement already satisfied: lxml>=3.6.0 in c:\\users\\owner\\anaconda3\\lib\\site-packages (from newspaper3k) (4.9.1)\n",
      "Requirement already satisfied: PyYAML>=3.11 in c:\\users\\owner\\anaconda3\\lib\\site-packages (from newspaper3k) (6.0)\n",
      "Requirement already satisfied: jieba3k>=0.35.1 in c:\\users\\owner\\anaconda3\\lib\\site-packages (from newspaper3k) (0.35.1)\n",
      "Requirement already satisfied: soupsieve>1.2 in c:\\users\\owner\\anaconda3\\lib\\site-packages (from beautifulsoup4>=4.4.1->newspaper3k) (2.3.1)\n",
      "Requirement already satisfied: six in c:\\users\\owner\\anaconda3\\lib\\site-packages (from feedfinder2>=0.0.4->newspaper3k) (1.16.0)\n",
      "Requirement already satisfied: sgmllib3k in c:\\users\\owner\\anaconda3\\lib\\site-packages (from feedparser>=5.2.1->newspaper3k) (1.0.0)\n",
      "Requirement already satisfied: click in c:\\users\\owner\\anaconda3\\lib\\site-packages (from nltk>=3.2.1->newspaper3k) (8.0.3)\n",
      "Requirement already satisfied: tqdm in c:\\users\\owner\\anaconda3\\lib\\site-packages (from nltk>=3.2.1->newspaper3k) (4.64.1)\n",
      "Requirement already satisfied: joblib in c:\\users\\owner\\anaconda3\\lib\\site-packages (from nltk>=3.2.1->newspaper3k) (1.1.0)\n",
      "Requirement already satisfied: regex>=2021.8.3 in c:\\users\\owner\\anaconda3\\lib\\site-packages (from nltk>=3.2.1->newspaper3k) (2022.7.9)\n",
      "Requirement already satisfied: idna<4,>=2.5 in c:\\users\\owner\\anaconda3\\lib\\site-packages (from requests>=2.10.0->newspaper3k) (3.3)\n",
      "Requirement already satisfied: charset-normalizer<3,>=2 in c:\\users\\owner\\anaconda3\\lib\\site-packages (from requests>=2.10.0->newspaper3k) (2.0.4)\n",
      "Requirement already satisfied: urllib3<1.27,>=1.21.1 in c:\\users\\owner\\anaconda3\\lib\\site-packages (from requests>=2.10.0->newspaper3k) (1.26.11)\n",
      "Requirement already satisfied: certifi>=2017.4.17 in c:\\users\\owner\\anaconda3\\lib\\site-packages (from requests>=2.10.0->newspaper3k) (2022.9.14)\n",
      "Requirement already satisfied: filelock>=3.0.8 in c:\\users\\owner\\anaconda3\\lib\\site-packages (from tldextract>=2.0.1->newspaper3k) (3.6.0)\n",
      "Requirement already satisfied: requests-file>=1.4 in c:\\users\\owner\\anaconda3\\lib\\site-packages (from tldextract>=2.0.1->newspaper3k) (1.5.1)\n",
      "Requirement already satisfied: colorama in c:\\users\\owner\\anaconda3\\lib\\site-packages (from click->nltk>=3.2.1->newspaper3k) (0.4.5)\n",
      "Collecting textblob\n",
      "  Downloading textblob-0.17.1-py2.py3-none-any.whl (636 kB)\n",
      "     ------------------------------------ 636.8/636.8 kB 234.5 kB/s eta 0:00:00\n",
      "Requirement already satisfied: nltk>=3.1 in c:\\users\\owner\\anaconda3\\lib\\site-packages (from textblob) (3.7)\n",
      "Requirement already satisfied: click in c:\\users\\owner\\anaconda3\\lib\\site-packages (from nltk>=3.1->textblob) (8.0.3)\n",
      "Requirement already satisfied: joblib in c:\\users\\owner\\anaconda3\\lib\\site-packages (from nltk>=3.1->textblob) (1.1.0)\n",
      "Requirement already satisfied: regex>=2021.8.3 in c:\\users\\owner\\anaconda3\\lib\\site-packages (from nltk>=3.1->textblob) (2022.7.9)\n",
      "Requirement already satisfied: tqdm in c:\\users\\owner\\anaconda3\\lib\\site-packages (from nltk>=3.1->textblob) (4.64.1)\n",
      "Requirement already satisfied: colorama in c:\\users\\owner\\anaconda3\\lib\\site-packages (from click->nltk>=3.1->textblob) (0.4.5)\n",
      "Installing collected packages: textblob\n",
      "Successfully installed textblob-0.17.1\n"
     ]
    }
   ],
   "source": [
    "!pip install tkinter\n",
    "!pip install nltk\n",
    "!pip install newspaper3k\n",
    "!pip install textblob"
   ]
  },
  {
   "cell_type": "code",
   "execution_count": 34,
   "id": "658a3d6d",
   "metadata": {},
   "outputs": [],
   "source": [
    "import tkinter as tk\n",
    "import nltk\n",
    "from textblob import TextBlob\n",
    "from newspaper import Article\n",
    "from newspaper import Config"
   ]
  },
  {
   "cell_type": "code",
   "execution_count": 10,
   "id": "1a9bf082",
   "metadata": {},
   "outputs": [
    {
     "name": "stderr",
     "output_type": "stream",
     "text": [
      "[nltk_data] Downloading package punkt to\n",
      "[nltk_data]     C:\\Users\\owner\\AppData\\Roaming\\nltk_data...\n",
      "[nltk_data]   Unzipping tokenizers\\punkt.zip.\n"
     ]
    },
    {
     "data": {
      "text/plain": [
       "True"
      ]
     },
     "execution_count": 10,
     "metadata": {},
     "output_type": "execute_result"
    }
   ],
   "source": [
    "nltk.download(\"punkt\")"
   ]
  },
  {
   "cell_type": "code",
   "execution_count": 39,
   "id": "6b71f9bd",
   "metadata": {},
   "outputs": [],
   "source": [
    "def summarize():\n",
    "    url=utext.get('1.0', 'end').strip()\n",
    "    user_agent = 'Mozilla/5.0 (Macintosh; Intel Mac OS X 10_11_5) AppleWebKit/537.36 (KHTML, like Gecko) Chrome/50.0.2661.102 Safari/537.36'\n",
    "    config = Config()\n",
    "    config.browser_user_agent = user_agent\n",
    "    article = Article(url, config=config)\n",
    "    article.download()\n",
    "    article.parse()\n",
    "    article.nlp()\n",
    "    \n",
    "    title.config(state='normal')\n",
    "    author.config(state='normal')\n",
    "    publication.config(state='normal')\n",
    "    summary.config(state='normal')\n",
    "    sentiment.config(state='normal')\n",
    "    \n",
    "    title.delete('1.0', 'end')\n",
    "    title.insert('1.0', article.title)\n",
    "    \n",
    "    author.delete('1.0', 'end')\n",
    "    author.insert('1.0', article.authors)\n",
    "    \n",
    "    publication.delete('1.0', 'end')\n",
    "    publication.insert('1.0', article.publish_date)\n",
    "    \n",
    "    summary.delete('1.0', 'end')\n",
    "    summary.insert('1.0', article.summary)\n",
    "    \n",
    "    analysis= TextBlob(article.text)\n",
    "    sentiment.delete('1.0', 'end')\n",
    "    sentiment.insert('1.0', f': {analysis.polarity}, sentiment{\"positive\" if analysis.polarity >0 else \"negative\" if analysis.polarity <0 else \"neutral\"}')\n",
    "    \n",
    "    title.config(state='disabled')\n",
    "    author.config(state='disabled')\n",
    "    publication.config(state='disabled')\n",
    "    summary.config(state='disabled')\n",
    "    sentiment.config(state='disabled')"
   ]
  },
  {
   "cell_type": "code",
   "execution_count": 41,
   "id": "95df4ba5",
   "metadata": {},
   "outputs": [],
   "source": [
    "root=tk.Tk()\n",
    "root.title(\"NEWS SUMMARIZER\")\n",
    "root.geometry('1200x600')\n",
    "\n",
    "tlabel= tk.Label(root,text=\"Title\")\n",
    "tlabel.pack()\n",
    "\n",
    "title= tk.Text(root, height=1, width= 140)\n",
    "title.config(state='disabled', bg='#bbbbbb')\n",
    "title.pack()\n",
    "\n",
    "alabel= tk.Label(root,text=\"Author\")\n",
    "alabel.pack()\n",
    "\n",
    "author= tk.Text(root, height=1, width= 140)\n",
    "author.config(state='disabled', bg='#bbbbbb')\n",
    "author.pack()\n",
    "\n",
    "plabel= tk.Label(root,text=\"Publication Date\")\n",
    "plabel.pack()\n",
    "\n",
    "publication= tk.Text(root, height=1, width= 140)\n",
    "publication.config(state='disabled', bg='#bbbbbb')\n",
    "publication.pack()\n",
    "\n",
    "slabel= tk.Label(root,text=\"News Summary\")\n",
    "slabel.pack()\n",
    "\n",
    "summary= tk.Text(root, height=20, width= 140)\n",
    "summary.config(state='disabled', bg='#bbbbbb')\n",
    "summary.pack()\n",
    "\n",
    "selabel= tk.Label(root,text=\"News sentiment Analysis Report\")\n",
    "selabel.pack()\n",
    "\n",
    "sentiment= tk.Text(root, height=1, width= 140)\n",
    "sentiment.config(state='disabled', bg='#bbbbbb')\n",
    "sentiment.pack()\n",
    "\n",
    "ulabel= tk.Label(root,text=\"News Source(URL)\")\n",
    "ulabel.pack()\n",
    "\n",
    "utext= tk.Text(root, height=1, width= 140)\n",
    "utext.pack()\n",
    "\n",
    "button= tk.Button(root, text=\"Summarize\", command= summarize)\n",
    "button.pack()\n",
    "\n",
    "root.mainloop()"
   ]
  },
  {
   "cell_type": "code",
   "execution_count": null,
   "id": "cd7da329",
   "metadata": {},
   "outputs": [],
   "source": []
  },
  {
   "cell_type": "code",
   "execution_count": null,
   "id": "328a362c",
   "metadata": {},
   "outputs": [],
   "source": []
  }
 ],
 "metadata": {
  "kernelspec": {
   "display_name": "Python 3 (ipykernel)",
   "language": "python",
   "name": "python3"
  },
  "language_info": {
   "codemirror_mode": {
    "name": "ipython",
    "version": 3
   },
   "file_extension": ".py",
   "mimetype": "text/x-python",
   "name": "python",
   "nbconvert_exporter": "python",
   "pygments_lexer": "ipython3",
   "version": "3.9.13"
  }
 },
 "nbformat": 4,
 "nbformat_minor": 5
}
